{
 "cells": [
  {
   "cell_type": "markdown",
   "id": "01bde041",
   "metadata": {},
   "source": [
    "Yêu cầu 1: Chuẩn hóa và làm sạch dữ liệu\n",
    "\n",
    "Chuẩn hóa cột salary về dạng số, xử lý các giá trị như \"Thoả thuận\", \"Trên X triệu\", \"X - Y triệu\", \"Tới X triệu\", etc.\n",
    "\n",
    "Tạo thêm các cột phụ: min_salary, max_salary, salary_unit (VND/USD)\n",
    "\n",
    "Xử lý cột address để tách thành city và district\n",
    "\n",
    "Chuẩn hóa job_title để gom nhóm các vị trí tương tự (ví dụ: \"Software Engineer\", \"Developer\", \"Programmer\" có thể gom vào một nhóm)\n",
    "\n",
    "Yêu cầu 2: Xây dựng Data Pipeline\n",
    "\n",
    "Thiết kế luồng ETL cơ bản: Extract từ CSV -> Transform dữ liệu -> Load vào database (MySQL hoặc PostgresDB)\n",
    "\n",
    "Thiết lập schedule job tự động chạy pipeline\n",
    "\n",
    "Xây dựng error handling cho các trường hợp lỗi phổ biến\n",
    "\n",
    "Yêu cầu 3: Phân tích dữ liệu\n",
    "\n",
    "Vẽ biểu đồ phân bố mức lương theo vị trí\n",
    "\n",
    "Vẽ bản đồ nhiệt (heatmap) phân bố việc làm theo khu vực\n",
    "\n",
    "Biểu đồ xu hướng công nghệ hot\n",
    "\n",
    "Lưu ý quan trọng:\n",
    "\n",
    "Sử dụng version control (git) cho code\n",
    "Viết unit test cho các hàm xử lý dữ liệu"
   ]
  },
  {
   "cell_type": "code",
   "execution_count": null,
   "id": "18b4f83e",
   "metadata": {},
   "outputs": [],
   "source": []
  },
  {
   "cell_type": "code",
   "execution_count": null,
   "id": "a8222d16",
   "metadata": {},
   "outputs": [],
   "source": []
  },
  {
   "cell_type": "code",
   "execution_count": null,
   "id": "d77ca187",
   "metadata": {},
   "outputs": [],
   "source": []
  },
  {
   "cell_type": "code",
   "execution_count": null,
   "id": "ea90b823",
   "metadata": {},
   "outputs": [],
   "source": []
  },
  {
   "cell_type": "code",
   "execution_count": null,
   "id": "ea6e1c15",
   "metadata": {},
   "outputs": [],
   "source": []
  }
 ],
 "metadata": {
  "kernelspec": {
   "display_name": "Python 3 (ipykernel)",
   "language": "python",
   "name": "python3"
  },
  "language_info": {
   "codemirror_mode": {
    "name": "ipython",
    "version": 3
   },
   "file_extension": ".py",
   "mimetype": "text/x-python",
   "name": "python",
   "nbconvert_exporter": "python",
   "pygments_lexer": "ipython3",
   "version": "3.12.3"
  }
 },
 "nbformat": 4,
 "nbformat_minor": 5
}
