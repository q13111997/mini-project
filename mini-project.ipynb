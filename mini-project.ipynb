{
 "cells": [
  {
   "cell_type": "markdown",
   "id": "bb61d0ae",
   "metadata": {},
   "source": [
    "Yêu cầu 1: Chuẩn hóa và làm sạch dữ liệu\n",
    "\n",
    "Chuẩn hóa cột salary về dạng số, xử lý các giá trị như \"Thoả thuận\", \"Trên X triệu\", \"X - Y triệu\", \"Tới X triệu\", etc.\n",
    "\n",
    "Tạo thêm các cột phụ: min_salary, max_salary, salary_unit (VND/USD)\n",
    "\n",
    "Xử lý cột address để tách thành city và district\n",
    "\n",
    "Chuẩn hóa job_title để gom nhóm các vị trí tương tự (ví dụ: \"Software Engineer\", \"Developer\", \"Programmer\" có thể gom vào một nhóm)\n",
    "\n",
    "Yêu cầu 2: Xây dựng Data Pipeline\n",
    "\n",
    "Thiết kế luồng ETL cơ bản: Extract từ CSV -> Transform dữ liệu -> Load vào database (MySQL hoặc PostgresDB)\n",
    "\n",
    "Thiết lập schedule job tự động chạy pipeline\n",
    "\n",
    "Xây dựng error handling cho các trường hợp lỗi phổ biến\n",
    "\n",
    "Yêu cầu 3: Phân tích dữ liệu\n",
    "\n",
    "Vẽ biểu đồ phân bố mức lương theo vị trí\n",
    "\n",
    "Vẽ bản đồ nhiệt (heatmap) phân bố việc làm theo khu vực\n",
    "\n",
    "Biểu đồ xu hướng công nghệ hot\n",
    "\n",
    "Lưu ý quan trọng:\n",
    "\n",
    "Sử dụng version control (git) cho code\n",
    "Viết unit test cho các hàm xử lý dữ liệu"
   ]
  },
  {
   "cell_type": "code",
   "execution_count": 3,
   "id": "e99cbe8d",
   "metadata": {},
   "outputs": [],
   "source": [
    "import pandas as pd"
   ]
  },
  {
   "cell_type": "code",
   "execution_count": 5,
   "id": "778dd2cd",
   "metadata": {},
   "outputs": [
    {
     "name": "stdout",
     "output_type": "stream",
     "text": [
      "  created_date                                          job_title  \\\n",
      "0   2023-08-01                                   Business Analyst   \n",
      "1   2023-08-01  Nhân Viên Lập Trình Phần Mềm - Thu Nhập Từ 10 ...   \n",
      "2   2023-08-01                        .Net Developer (N3) | T9160   \n",
      "3   2023-08-01  Project Manager (Tiếng Anh Giao Tiếp, Từ 1 Năm...   \n",
      "4   2023-08-01  Devops/Sre - Chuyên Viên Quản Trị Hệ Thống/Aut...   \n",
      "\n",
      "                             company         salary  \\\n",
      "0    Công ty TNHH Công nghệ số Adamo  10 - 20 triệu   \n",
      "1   Công ty TNHH Đầu Tư Công Nghệ ST  10 - 20 triệu   \n",
      "2            Công ty TNHH CMC GLOBAL     Thoả thuận   \n",
      "3  CÔNG TY CỔ PHẦN CÔNG NGHỆ SOTATEK   Tới 35 triệu   \n",
      "4    Công ty Cổ phần Thời Trang Yody   Tới 50 triệu   \n",
      "\n",
      "                                       address                      time  \\\n",
      "0                                       Hà Nội  Còn 25 ngày để ứng tuyển   \n",
      "1                                  Hồ Chí Minh  Còn 91 ngày để ứng tuyển   \n",
      "2                                    Toàn Quốc  Còn 30 ngày để ứng tuyển   \n",
      "3                             Hà Nội: Cầu Giấy  Còn 25 ngày để ứng tuyển   \n",
      "4  Hà Nội: Thanh Xuân: Hải Dương: TP Hải Dương  Còn 30 ngày để ứng tuyển   \n",
      "\n",
      "                                    link_description  \n",
      "0  https://www.topcv.vn/viec-lam/business-analyst...  \n",
      "1  https://www.topcv.vn/viec-lam/nhan-vien-lap-tr...  \n",
      "2  https://www.topcv.vn/viec-lam/net-developer-n3...  \n",
      "3  https://www.topcv.vn/viec-lam/project-manager-...  \n",
      "4  https://www.topcv.vn/viec-lam/devops-sre-chuye...  \n"
     ]
    }
   ],
   "source": [
    "file = 'data.csv'\n",
    "df = pd.read_csv(file)\n",
    "print(df.head())"
   ]
  },
  {
   "cell_type": "code",
   "execution_count": null,
   "id": "dbb65a8b",
   "metadata": {},
   "outputs": [],
   "source": []
  },
  {
   "cell_type": "code",
   "execution_count": null,
   "id": "7081f023",
   "metadata": {},
   "outputs": [],
   "source": []
  },
  {
   "cell_type": "code",
   "execution_count": null,
   "id": "966afcb6",
   "metadata": {},
   "outputs": [],
   "source": []
  }
 ],
 "metadata": {
  "kernelspec": {
   "display_name": "Python 3 (ipykernel)",
   "language": "python",
   "name": "python3"
  },
  "language_info": {
   "codemirror_mode": {
    "name": "ipython",
    "version": 3
   },
   "file_extension": ".py",
   "mimetype": "text/x-python",
   "name": "python",
   "nbconvert_exporter": "python",
   "pygments_lexer": "ipython3",
   "version": "3.12.3"
  }
 },
 "nbformat": 4,
 "nbformat_minor": 5
}
